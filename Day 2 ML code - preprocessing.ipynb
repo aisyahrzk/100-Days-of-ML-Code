{
 "cells": [
  {
   "cell_type": "markdown",
   "metadata": {},
   "source": [
    "## Importing Data"
   ]
  },
  {
   "cell_type": "code",
   "execution_count": 3,
   "metadata": {},
   "outputs": [
    {
     "data": {
      "text/plain": [
       "<bound method NDFrame.head of       fixed acidity  volatile acidity  citric acid  residual sugar  chlorides  \\\n",
       "0               7.4             0.700         0.00             1.9      0.076   \n",
       "1               7.8             0.880         0.00             2.6      0.098   \n",
       "2               7.8             0.760         0.04             2.3      0.092   \n",
       "3              11.2             0.280         0.56             1.9      0.075   \n",
       "4               7.4             0.700         0.00             1.9      0.076   \n",
       "...             ...               ...          ...             ...        ...   \n",
       "1594            6.2             0.600         0.08             2.0      0.090   \n",
       "1595            5.9             0.550         0.10             2.2      0.062   \n",
       "1596            6.3             0.510         0.13             2.3      0.076   \n",
       "1597            5.9             0.645         0.12             2.0      0.075   \n",
       "1598            6.0             0.310         0.47             3.6      0.067   \n",
       "\n",
       "      free sulfur dioxide  total sulfur dioxide  density    pH  sulphates  \\\n",
       "0                    11.0                  34.0  0.99780  3.51       0.56   \n",
       "1                    25.0                  67.0  0.99680  3.20       0.68   \n",
       "2                    15.0                  54.0  0.99700  3.26       0.65   \n",
       "3                    17.0                  60.0  0.99800  3.16       0.58   \n",
       "4                    11.0                  34.0  0.99780  3.51       0.56   \n",
       "...                   ...                   ...      ...   ...        ...   \n",
       "1594                 32.0                  44.0  0.99490  3.45       0.58   \n",
       "1595                 39.0                  51.0  0.99512  3.52       0.76   \n",
       "1596                 29.0                  40.0  0.99574  3.42       0.75   \n",
       "1597                 32.0                  44.0  0.99547  3.57       0.71   \n",
       "1598                 18.0                  42.0  0.99549  3.39       0.66   \n",
       "\n",
       "      alcohol  quality  \n",
       "0         9.4        5  \n",
       "1         9.8        5  \n",
       "2         9.8        5  \n",
       "3         9.8        6  \n",
       "4         9.4        5  \n",
       "...       ...      ...  \n",
       "1594     10.5        5  \n",
       "1595     11.2        6  \n",
       "1596     11.0        6  \n",
       "1597     10.2        5  \n",
       "1598     11.0        6  \n",
       "\n",
       "[1599 rows x 12 columns]>"
      ]
     },
     "execution_count": 3,
     "metadata": {},
     "output_type": "execute_result"
    }
   ],
   "source": [
    "import pandas as pd\n",
    "\n",
    "data = pd.read_csv('C:/Users/user/Documents/to be done/winequality-red.csv')\n",
    "data.head"
   ]
  },
  {
   "cell_type": "markdown",
   "metadata": {},
   "source": [
    "Set independent and dependent variable"
   ]
  },
  {
   "cell_type": "code",
   "execution_count": 5,
   "metadata": {},
   "outputs": [],
   "source": [
    "X = data.iloc[:,:-1]\n",
    "y = data.iloc[:,11]"
   ]
  },
  {
   "cell_type": "markdown",
   "metadata": {},
   "source": [
    "## Handle Missing Values\n",
    "\n",
    "We can handle missing values by:\n",
    "\n",
    "* deletion method, columns or row with too many missing values can be removed (typically more than 70% missing)\n",
    "* regression analysis to systematically eliminate data\n",
    "* Imputation technique: filling missing values with mean, median and mode "
   ]
  },
  {
   "cell_type": "code",
   "execution_count": 6,
   "metadata": {},
   "outputs": [
    {
     "data": {
      "text/plain": [
       "fixed acidity           0\n",
       "volatile acidity        0\n",
       "citric acid             0\n",
       "residual sugar          0\n",
       "chlorides               0\n",
       "free sulfur dioxide     0\n",
       "total sulfur dioxide    0\n",
       "density                 0\n",
       "pH                      0\n",
       "sulphates               0\n",
       "alcohol                 0\n",
       "quality                 0\n",
       "dtype: int64"
      ]
     },
     "execution_count": 6,
     "metadata": {},
     "output_type": "execute_result"
    }
   ],
   "source": [
    "#find missing values in a column\n",
    "data.isnull().sum()"
   ]
  },
  {
   "cell_type": "markdown",
   "metadata": {},
   "source": [
    "**Imputation Method- filling missing values with median,mode,mean**\n",
    "\n",
    "So many other ways to perform this method not necessary using imputer "
   ]
  },
  {
   "cell_type": "code",
   "execution_count": null,
   "metadata": {},
   "outputs": [],
   "source": [
    "from sklearn.preprocessing import Imputer\n",
    "\n",
    "Imputer = Imputer(missing_values = 'NaN',strategy = 'mean',axis = 0)\n",
    "\n",
    "#fit imputer to data\n",
    "\n",
    "Imputer = Imputer.fit(data)\n",
    "data = Imputer.transofrm(data)\n"
   ]
  },
  {
   "cell_type": "code",
   "execution_count": null,
   "metadata": {},
   "outputs": [],
   "source": [
    "import numpy as np\n",
    "\n",
    "data['pH'].replace(np.NaN, data['pH'].mean())\n",
    "#if using median or mode just change to .median(),.mode()"
   ]
  },
  {
   "cell_type": "markdown",
   "metadata": {},
   "source": [
    "**Using regression to predict missing values using other features**"
   ]
  },
  {
   "cell_type": "code",
   "execution_count": null,
   "metadata": {},
   "outputs": [],
   "source": [
    "from sklearn.linear_model import LinearRegression\n",
    "linreg = LinearRegression()\n",
    "#our data currently does not have missing values, just for practice purpose will continue\n",
    "\n",
    "#all feature except column which we want to predict\n",
    "train_data_x = data.iloc[:,:6]\n",
    "#column that will be predict\n",
    "train_Data_y = data.iloc[:,6]\n",
    "\n",
    "linreg.fit(train_data_x,train_data_y)\n",
    "\n",
    "#predict whole dataset and replace only with missing values\n",
    "test = data.iloc(:,:6)\n",
    "predict['pH'] = pd.DataFrame(linreg.predict(test_data))\n",
    "\n",
    "data.pH.fillna(predict.pH,inplace=True)"
   ]
  },
  {
   "cell_type": "markdown",
   "metadata": {},
   "source": [
    "## Encoding  Categorical Data\n",
    "\n",
    "example we have feature with 'female','male' or good moderate best \n",
    "- cannot be fed into our algorithm therefore we need to convert them \n",
    "\n",
    "LabelEncoder,One-hot Encoder\n",
    "\n",
    "- we want numeric and continuous values only in the dataset\n",
    "- Using Labelencoder and OneHotEncoder functions from scikit-learn\n",
    "\n",
    "**label encoder** \n",
    "- make categorical features to numbers\n",
    "- cons of misinterpreted by the algo\n",
    "- does 4 more than 0? etc..\n",
    "- turn text value into numeric in a column\n",
    "\n",
    "**one hot encoding**\n",
    "\n",
    "- convert each categorical values into new column and assign 0 or 1 (true/false)\n",
    "- will not weight improperly\n",
    "- adds more column to dataset\n",
    "\n"
   ]
  },
  {
   "cell_type": "code",
   "execution_count": null,
   "metadata": {},
   "outputs": [],
   "source": [
    "#LABEL-ENCODING\n",
    "\n",
    "#convert to category \n",
    "obj_df[\"body_style\"] = obj_df[\"body_style\"].astype('category')\n",
    "#assign variable to a new column \n",
    "obj_df[\"body_style_cat\"] = obj_df[\"body_style\"].cat.codes"
   ]
  },
  {
   "cell_type": "code",
   "execution_count": null,
   "metadata": {},
   "outputs": [],
   "source": [
    "#ONE HOT ENCODING\n",
    "\n",
    "\n",
    "pd.get_dummies(obj_df, columns=[\"drive_wheels\"]).head()\n",
    "\n",
    "from sklearn.preprocessing import OneHotEncoder\n",
    "\n",
    "oe_style = OneHotEncoder()\n",
    "oe_results = oe_style.fit_transform(obj_df[[\"body_style\"]])\n",
    "pd.DataFrame(oe_results.toarray(), columns=oe_style.categories_).head()\n",
    "\n",
    "obj_df = obj_df.join(pd.DataFrame(oe_results.toarray(), columns=oe_style.categories_))\n",
    "\n"
   ]
  },
  {
   "cell_type": "code",
   "execution_count": 9,
   "metadata": {},
   "outputs": [],
   "source": [
    "#custom binary encoding - mix between label and one hot encoding\n",
    "\n",
    "obj_df[\"OHC_Code\"] = np.where(obj_df[\"engine_type\"].str.contains(\"ohc\"), 1, 0)\n"
   ]
  },
  {
   "cell_type": "markdown",
   "metadata": {},
   "source": [
    "![binary encoding](https://pbpython.com/images/np-where-2.png)\n",
    "\n"
   ]
  },
  {
   "cell_type": "markdown",
   "metadata": {},
   "source": [
    "## Feature Scaling\n",
    "\n",
    "using standardscaler(Standardization), minmaxscaler(normalization)\n",
    "- data is usually collected at different scale such as age which varies from 1-69 may be different to compared with income 1000-17000\n",
    "-this different scale of value smay cause bias to column with very big value \n",
    "- we will normalize these features to a scale ex [0,1] so they will contribute equally during computation"
   ]
  },
  {
   "cell_type": "code",
   "execution_count": null,
   "metadata": {},
   "outputs": [],
   "source": [
    "from sklearn.preprocessing import StandardScaler \n",
    "scaler = StandardScaler()\n",
    "scaled = scaler.fit_transform(data)"
   ]
  },
  {
   "cell_type": "code",
   "execution_count": null,
   "metadata": {},
   "outputs": [],
   "source": [
    "from sklearn import preprocessing\n",
    "min_max_Scaler = preprocessing.MinMaxScaler()\n",
    "X_train_minmax = min_max_Scaler.fit_transform(X_train)"
   ]
  }
 ],
 "metadata": {
  "kernelspec": {
   "display_name": "Python 3",
   "language": "python",
   "name": "python3"
  },
  "language_info": {
   "codemirror_mode": {
    "name": "ipython",
    "version": 3
   },
   "file_extension": ".py",
   "mimetype": "text/x-python",
   "name": "python",
   "nbconvert_exporter": "python",
   "pygments_lexer": "ipython3",
   "version": "3.8.5"
  }
 },
 "nbformat": 4,
 "nbformat_minor": 4
}
